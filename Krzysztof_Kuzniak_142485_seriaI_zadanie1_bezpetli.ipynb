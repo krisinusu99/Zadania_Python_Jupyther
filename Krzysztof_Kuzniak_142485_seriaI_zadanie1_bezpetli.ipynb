{
 "cells": [
  {
   "cell_type": "code",
   "execution_count": 26,
   "id": "2e3ae50d-0e09-4494-b48a-3c1d9a2a0d5c",
   "metadata": {},
   "outputs": [],
   "source": [
    "import math"
   ]
  },
  {
   "cell_type": "code",
   "execution_count": 28,
   "id": "35dc0130-58a6-4b5b-9f37-c2b275640a53",
   "metadata": {},
   "outputs": [],
   "source": [
    "def Pokaz_menu():\n",
    "    print(\"1 - Oblicz sumę pierwiastkow od 0 do k\")\n",
    "    print(\"2 - Wyjście :\")\n",
    "    print(\"Wybierz opcję 1 lub 2:\",end=\"\")"
   ]
  },
  {
   "cell_type": "code",
   "execution_count": 30,
   "id": "cb194741-fa5b-4f7f-8703-b411a1cb345b",
   "metadata": {},
   "outputs": [],
   "source": [
    "# Funkcja rekurencyjna obliczajaca sume pierwiastkow od 0 do k bez petli\n",
    "def suma_pierwiastkow(k):\n",
    "    if k==0:\n",
    "        return 0\n",
    "    else:\n",
    "        return math.sqrt(k) + suma_pierwiastkow(k-1)"
   ]
  },
  {
   "cell_type": "code",
   "execution_count": 32,
   "id": "bc48e0e0-33a5-4930-b273-9e8fd21b4098",
   "metadata": {},
   "outputs": [],
   "source": [
    "def main():\n",
    "    while True:\n",
    "        Pokaz_menu()\n",
    "        try:\n",
    "            wybor = int(input().strip())\n",
    "            if wybor == 1:\n",
    "                k = int(input(\"Podaj liczbę k: \"))\n",
    "                if k < 0:\n",
    "                    raise ValueError(\"Liczba musi być nieujemna.\")\n",
    "                wynik = suma_pierwiastkow(k)\n",
    "                print(f\"Suma pierwiastków liczb od 0 do {k} wynosi: {wynik}\")\n",
    "            elif wybor == 2:\n",
    "                print(\"Koniec programu.\")\n",
    "                break\n",
    "            else:\n",
    "                print(\"Nieprawidłowy wybór. Spróbuj ponownie.\")\n",
    "        except ValueError as e:\n",
    "            print(f\"Błąd: {e}\")\n"
   ]
  },
  {
   "cell_type": "code",
   "execution_count": 34,
   "id": "fcac8a1b-ce24-440c-8bd7-5a8ab6a3a9dd",
   "metadata": {},
   "outputs": [
    {
     "name": "stdout",
     "output_type": "stream",
     "text": [
      "1 - Oblicz sumę pierwiastkow od 0 do k\n",
      "2 - Wyjście :\n",
      "Wybierz opcję 1 lub 2:"
     ]
    },
    {
     "name": "stdin",
     "output_type": "stream",
     "text": [
      " 1\n",
      "Podaj liczbę k:  22\n"
     ]
    },
    {
     "name": "stdout",
     "output_type": "stream",
     "text": [
      "Suma pierwiastków liczb od 0 do 22 wynosi: 70.93896926619907\n",
      "1 - Oblicz sumę pierwiastkow od 0 do k\n",
      "2 - Wyjście :\n",
      "Wybierz opcję 1 lub 2:"
     ]
    },
    {
     "name": "stdin",
     "output_type": "stream",
     "text": [
      " 1\n",
      "Podaj liczbę k:  234\n"
     ]
    },
    {
     "name": "stdout",
     "output_type": "stream",
     "text": [
      "Suma pierwiastków liczb od 0 do 234 wynosi: 2393.7844992414234\n",
      "1 - Oblicz sumę pierwiastkow od 0 do k\n",
      "2 - Wyjście :\n",
      "Wybierz opcję 1 lub 2:"
     ]
    },
    {
     "name": "stdin",
     "output_type": "stream",
     "text": [
      " 1\n",
      "Podaj liczbę k:  1\n"
     ]
    },
    {
     "name": "stdout",
     "output_type": "stream",
     "text": [
      "Suma pierwiastków liczb od 0 do 1 wynosi: 1.0\n",
      "1 - Oblicz sumę pierwiastkow od 0 do k\n",
      "2 - Wyjście :\n",
      "Wybierz opcję 1 lub 2:"
     ]
    },
    {
     "name": "stdin",
     "output_type": "stream",
     "text": [
      " 0\n"
     ]
    },
    {
     "name": "stdout",
     "output_type": "stream",
     "text": [
      "Nieprawidłowy wybór. Spróbuj ponownie.\n",
      "1 - Oblicz sumę pierwiastkow od 0 do k\n",
      "2 - Wyjście :\n",
      "Wybierz opcję 1 lub 2:"
     ]
    },
    {
     "name": "stdin",
     "output_type": "stream",
     "text": [
      " -1\n"
     ]
    },
    {
     "name": "stdout",
     "output_type": "stream",
     "text": [
      "Nieprawidłowy wybór. Spróbuj ponownie.\n",
      "1 - Oblicz sumę pierwiastkow od 0 do k\n",
      "2 - Wyjście :\n",
      "Wybierz opcję 1 lub 2:"
     ]
    },
    {
     "name": "stdin",
     "output_type": "stream",
     "text": [
      " 3\n"
     ]
    },
    {
     "name": "stdout",
     "output_type": "stream",
     "text": [
      "Nieprawidłowy wybór. Spróbuj ponownie.\n",
      "1 - Oblicz sumę pierwiastkow od 0 do k\n",
      "2 - Wyjście :\n",
      "Wybierz opcję 1 lub 2:"
     ]
    },
    {
     "name": "stdin",
     "output_type": "stream",
     "text": [
      " 2\n"
     ]
    },
    {
     "name": "stdout",
     "output_type": "stream",
     "text": [
      "Koniec programu.\n"
     ]
    }
   ],
   "source": [
    "# Wywołanie funkcji main, aby uruchomić program\n",
    "if __name__ == \"__main__\":\n",
    "    main()"
   ]
  },
  {
   "cell_type": "code",
   "execution_count": null,
   "id": "d7b654a5-7186-4a60-a9d9-72f657186af1",
   "metadata": {},
   "outputs": [],
   "source": []
  }
 ],
 "metadata": {
  "kernelspec": {
   "display_name": "Python 3 (ipykernel)",
   "language": "python",
   "name": "python3"
  },
  "language_info": {
   "codemirror_mode": {
    "name": "ipython",
    "version": 3
   },
   "file_extension": ".py",
   "mimetype": "text/x-python",
   "name": "python",
   "nbconvert_exporter": "python",
   "pygments_lexer": "ipython3",
   "version": "3.12.3"
  }
 },
 "nbformat": 4,
 "nbformat_minor": 5
}
