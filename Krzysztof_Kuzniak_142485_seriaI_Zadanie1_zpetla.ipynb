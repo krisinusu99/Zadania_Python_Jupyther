{
 "cells": [
  {
   "cell_type": "code",
   "execution_count": null,
   "id": "40103ca8-fce2-463d-b30f-287562683a96",
   "metadata": {},
   "outputs": [
    {
     "name": "stdout",
     "output_type": "stream",
     "text": [
      "Menu:\n",
      "1. Oblicz sumę pierwiastkow liczb od 0 do Z\n",
      "2. Wyjście\n",
      "Wybierz opcję( pierwszą wciskając: 1 lub drugą opcję wciskając: 2):',end=\n"
     ]
    },
    {
     "name": "stdin",
     "output_type": "stream",
     "text": [
      " 1\n",
      "Podaj liczbę Z:  23\n"
     ]
    },
    {
     "name": "stdout",
     "output_type": "stream",
     "text": [
      "Pierwiastek kwadratowy z 23 wynosi 4.795831523312719 \n",
      "Suma pierwiastków liczb od 0 do 23 wynosi: 75.73480078951178\n",
      "Menu:\n",
      "1. Oblicz sumę pierwiastkow liczb od 0 do Z\n",
      "2. Wyjście\n",
      "Wybierz opcję( pierwszą wciskając: 1 lub drugą opcję wciskając: 2):',end=\n"
     ]
    },
    {
     "name": "stdin",
     "output_type": "stream",
     "text": [
      " -1\n"
     ]
    },
    {
     "name": "stdout",
     "output_type": "stream",
     "text": [
      "Nieprawidłowy wybór. Spróbuj ponownie.\n",
      "Menu:\n",
      "1. Oblicz sumę pierwiastkow liczb od 0 do Z\n",
      "2. Wyjście\n",
      "Wybierz opcję( pierwszą wciskając: 1 lub drugą opcję wciskając: 2):',end=\n"
     ]
    }
   ],
   "source": [
    "import math # spowoduje to zaimportowanie funkcji podobnych do tych, które posiada kalkulator oraz niektóre stałe matematyczne.\n",
    "def main():\n",
    "    while True:\n",
    "        pokaz_menu()\n",
    "        try:\n",
    "            wybor = int(input().strip()) # odczytywanie wyboru użytkownika\n",
    "            if wybor ==1:\n",
    "                Z = int(input(\"Podaj liczbę Z: \")) # Odczytywanie liczby Z od użytkownika\n",
    "                if Z<0:\n",
    "                    raise ValueError(\"Liczba musi być nieujemna.\") # Sprawdzanie, czy liczba Z jest nieujemna\n",
    "                wynik = sumowanie_pierwiastkow(Z) # Obliczanie sumy pierwiastków\n",
    "                print(f\"Suma pierwiastków liczb od 0 do {Z} wynosi: {wynik}\") # Wyświetlanie wyniku\n",
    "            elif wybor ==2:\n",
    "                print(\"Koniec programu.\") # Komunikat kończący program\n",
    "                break # Zakońćzenie pętli i programu\n",
    "            else:\n",
    "                print(\"Nieprawidłowy wybór. Spróbuj ponownie.\") # Komunikta o wyborze , który nie jest prawidłowy\n",
    "        except ValueError as e:\n",
    "                print(f\"Błąd: {e}\") # Wyświetlanie komunikatu o błędzie\n",
    "# Wywołanie funkcji main, aby program został uruchomiony\n",
    "if __name__==\"__main__\":\n",
    "    main()"
   ]
  },
  {
   "cell_type": "markdown",
   "id": "5f000ada-1ec7-4e50-9641-34bb83820102",
   "metadata": {},
   "source": [
    "      "
   ]
  },
  {
   "cell_type": "code",
   "execution_count": null,
   "id": "51bef726-90d7-4caa-aa96-72f9ea4f214a",
   "metadata": {},
   "outputs": [],
   "source": []
  }
 ],
 "metadata": {
  "kernelspec": {
   "display_name": "Python 3 (ipykernel)",
   "language": "python",
   "name": "python3"
  },
  "language_info": {
   "codemirror_mode": {
    "name": "ipython",
    "version": 3
   },
   "file_extension": ".py",
   "mimetype": "text/x-python",
   "name": "python",
   "nbconvert_exporter": "python",
   "pygments_lexer": "ipython3",
   "version": "3.12.3"
  }
 },
 "nbformat": 4,
 "nbformat_minor": 5
}
