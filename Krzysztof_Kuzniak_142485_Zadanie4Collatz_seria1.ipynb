{
 "cells": [
  {
   "cell_type": "code",
   "execution_count": 52,
   "id": "3696f8ec-7c60-4e6a-9143-afd7bebdff74",
   "metadata": {},
   "outputs": [],
   "source": [
    "# Program znajduje najdluzszy ciag liczb spośród przedziału od 1 do miliona. Jest to zbiór liczb całkowitych mniejszych od miliona."
   ]
  },
  {
   "cell_type": "code",
   "execution_count": 54,
   "id": "340bfc29-ba11-40c7-bada-3a7c3c8872fd",
   "metadata": {},
   "outputs": [],
   "source": [
    "# Pytanie: Dla których liczb z tego przedziału najwolniej będzie osiągnięta liczba 1"
   ]
  },
  {
   "cell_type": "code",
   "execution_count": 56,
   "id": "538117c4-d19a-4696-8734-f8e2c65ca60e",
   "metadata": {},
   "outputs": [],
   "source": [
    "def wartosc_dlugosci_Kolatza(k):  # Funkcja obliczajaca dlugosc lancucha Collatza dla liczby k.\n",
    "    DLUGOSC = 1 # Inicjalizacja długości łańcucha\n",
    "    while k != 1: # Pętla działa, dopóki k nie jest równe 1\n",
    "        if k % 2==0: # Sprawdzamy, czy liczba jest parzysta\n",
    "            k = k // 2 # Jeśli tak, dzielimy ją przez 2\n",
    "        else:\n",
    "            k = 3 * k +1 # Jeśli nie, obliczamy nową wartość według wzoru 3*k + 1\n",
    "        DLUGOSC += 1 # Zwiększamy dlugosc lancucha o 1\n",
    "    return DLUGOSC # Zwracamy obliczoną długość łańcucha"
   ]
  },
  {
   "cell_type": "code",
   "execution_count": 58,
   "id": "a054651b-93ec-4ce7-962c-88bec0c59f92",
   "metadata": {},
   "outputs": [],
   "source": [
    "def najdluzszy_lancuch_Kolatza(MAKSIMUM):\n",
    "    # Funkcja zwracająca liczbę początkową poniżej MAKSIMUM, która generuje najdluższy łańcuch Collatza.\n",
    "    maksymalna_dlugosc = 0 # Inicjalizacja maksymalnej długości łańcucha\n",
    "    POCZATKOWA_LICZBA = 0 # Inicjalizacja liczby początkowej generującej najdluższy łańcuch\n",
    "    for i in range(1, MAKSIMUM): # Iteracja przez wszystkie liczby od 1 do MAKSIMUM -1\n",
    "        DLUGOSC = wartosc_dlugosci_Kolatza(i) # Obliczamy długość łańcucha dla bieżącej liczby\n",
    "        if DLUGOSC > maksymalna_dlugosc: # Sprawdzamy, czy bieżaca długość jest większa od maksymalnej\n",
    "            maksymalna_dlugosc = DLUGOSC # Jeśli jest większa od maksymalnej to aktualizujemy maksymalną dlugosc o tą nową większą\n",
    "            POCZATKOWA_LICZBA = i # Zapisujemy bieżącą liczbę jako generującą najdłuższy łańcuch\n",
    "    return POCZATKOWA_LICZBA, maksymalna_dlugosc # Zwracamy liczbę początkową i maksymalną długość"
   ]
  },
  {
   "cell_type": "code",
   "execution_count": 60,
   "id": "c6690869-32a8-4bfe-9907-04601e1c3e3c",
   "metadata": {},
   "outputs": [
    {
     "name": "stdout",
     "output_type": "stream",
     "text": [
      "Liczba początkowa poniżej 1000000 produkująca najdłuższy łańcuch z długością łańcucha  525 to liczba 837799\n"
     ]
    }
   ],
   "source": [
    "MAKSIMUM = 1000000 # Określenie maksimum( wartość 1 milion)\n",
    "POCZATKOWA_LICZBA, maksymalna_dlugosc = najdluzszy_lancuch_Kolatza(MAKSIMUM) # Znalezienie liczby generującej najdłuższy łańcuch Collatza\n",
    "print(f\"Liczba początkowa poniżej {MAKSIMUM} produkująca najdłuższy łańcuch z długością łańcucha \"f\" {maksymalna_dlugosc} to liczba {POCZATKOWA_LICZBA}\")"
   ]
  },
  {
   "cell_type": "code",
   "execution_count": null,
   "id": "adfd556a-6f95-436a-bb0e-4042760882d4",
   "metadata": {},
   "outputs": [],
   "source": []
  }
 ],
 "metadata": {
  "kernelspec": {
   "display_name": "Python 3 (ipykernel)",
   "language": "python",
   "name": "python3"
  },
  "language_info": {
   "codemirror_mode": {
    "name": "ipython",
    "version": 3
   },
   "file_extension": ".py",
   "mimetype": "text/x-python",
   "name": "python",
   "nbconvert_exporter": "python",
   "pygments_lexer": "ipython3",
   "version": "3.12.3"
  }
 },
 "nbformat": 4,
 "nbformat_minor": 5
}
