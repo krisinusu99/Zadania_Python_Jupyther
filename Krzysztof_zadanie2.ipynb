{
 "cells": [
  {
   "cell_type": "code",
   "execution_count": 42,
   "id": "1240f19d-8223-402e-9be0-364a5b15f9f3",
   "metadata": {},
   "outputs": [],
   "source": [
    "# Gra FizzBuzz z dodatkową funkcjonalnością 'umlaut' sprawdzanie ile razy podzielne( dzielenie bez reszty) \n",
    "#były przez 3 , 5 lub 15 liczby z wektora lcizb całkowitych "
   ]
  },
  {
   "cell_type": "code",
   "execution_count": 82,
   "id": "c9a5325f-d964-4a23-96b6-fd0bd9dfd6ce",
   "metadata": {},
   "outputs": [],
   "source": [
    "def fizzbuzz_gra(numery):\n",
    "    # Deklaracja zmiennej 'umlaut; ( przykład dodatkowej funkcjonalności)\n",
    "    umlaut =0 \n",
    "    # iteracja przez liczby w wekotrze 'numery'\n",
    "    for Q in numery:\n",
    "        # Sprawdzamy, czy liczba jest podzielna przez 15 ( czyli przez 3 i 5 jednocześnie)\n",
    "        if Q % 15 == 0:\n",
    "            # Jeśli liczba jest podzielna przez 15, wypisujemy \"FizzBuzz\"\n",
    "            print(Q, \"FizzBuzz\")\n",
    "            umlaut += 1  # Zwiększamy wartość 'umlaut' o 1 dla liczb podzielnych przez 15\n",
    "        # Sprawdzamy, czy liczba jest podzielna przez 3\n",
    "        elif Q % 3 == 0:\n",
    "            # Jeśli liczba jest podzielna przez 3, wypisujemy \"Fizz\"\n",
    "            print(Q,\"Fizz\")\n",
    "            umlaut +=1 # Zwiększamy wartość 'umlaut' o 1 dla liczb podzielnych przez 3\n",
    "        # Sprawdzamy, czy liczba jest podzielna przez 5\n",
    "        elif Q % 5== 0:\n",
    "            # Jeśli liczba jest podzielna przez 5, wypisujemy \"Buzz\"\n",
    "            print(Q,\"Buzz\")\n",
    "            umlaut +=1 # Zwiększamy wartosc 'umlaut' o 1 dla liczb podzielnych przez 5\n",
    "            # Jeśli żaden z powyższych warunków nie jest spełniony\n",
    "        else:\n",
    "            # Wypisujemy, że liczba nie jest podzielna przez 3, 5 ani 15\n",
    "            print(Q, \" Liczby niepodzielne przez 3, 5, 15 - odpadasz\")\n",
    "        # Wypisujemy na końcu końcową wartość 'umlaut' ilość trafień\n",
    "        print (f\"Końcowa wartość 'umlaut' po zakończeniu gry FizzBuzz: {umlaut}\")"
   ]
  },
  {
   "cell_type": "code",
   "execution_count": 109,
   "id": "1090ac8b-d349-4a47-91d5-40767ae8ce09",
   "metadata": {},
   "outputs": [
    {
     "name": "stdin",
     "output_type": "stream",
     "text": [
      "Podaj wektor liczb całkowitych w nawiasach klamrowych ( np. [1,2,3,4,5,6]): [-1,-2,-3]\n"
     ]
    },
    {
     "name": "stdout",
     "output_type": "stream",
     "text": [
      "Błąd:  Wszystkie liczby musza być dodatnie\n"
     ]
    }
   ],
   "source": [
    "def main():\n",
    "    try:\n",
    "        # odczytywanie wektora liczb całkowitych od użytkownika\n",
    "        numery_input = input(\"Podaj wektor liczb całkowitych w nawiasach klamrowych ( np. [1,2,3,4,5,6]):\").strip () # sprawdzanie, czy są nawiasy\n",
    "#klamrowe czyli, czy rozpoczyna się od '[' i kończy na ']'\n",
    "        if not (numery_input.startswith ('[') and numery_input.endswith(']')):\n",
    "            raise ValueError (\" Wprowadzone dane muszą być w nawiasach klamrowych.\") # nastepnie ttrzeba zamienic na normalną listę liczb całk.\n",
    "        # Usunięcie nawiasów i zamiana wprowadzonego ciągu liczb na listę liczb całkowitych\n",
    "        numery_input = numery_input[1:-1]\n",
    "        numery = list (map ( int, numery_input.split(',')))\n",
    "        # sprawdzanie, czy wprowadzone dane to lista liczb całkowitych\n",
    "        if not all(isinstance (n, int) for n in numery):\n",
    "            raise ValueError (\"Wprowadzone dane muszą być lista liczb całkowitych.\")\n",
    "        #Sprawdzenie, że liczby są dodatnie\n",
    "        if not all(n>=0 for n in numery):\n",
    "            raise ValueError(\" Wszystkie liczby musza być dodatnie\")\n",
    "    except( ValueError, SyntaxError) as e:\n",
    "        print (f\"Błąd: {e}\")\n",
    "        return\n",
    "# Wywołanie gry FizzBuzz dla wprowadzonej listy liczb\n",
    "    fizzbuzz_gra(numery)\n",
    "if __name__==\"__main__\":\n",
    "    main()"
   ]
  },
  {
   "cell_type": "code",
   "execution_count": 111,
   "id": "93ad4514-9e3f-40c5-a20e-6301b84452ca",
   "metadata": {},
   "outputs": [
    {
     "name": "stdin",
     "output_type": "stream",
     "text": [
      "Podaj wektor liczb całkowitych w nawiasach klamrowych ( np. [1,2,3,4,5,6]): [1,2\n"
     ]
    },
    {
     "name": "stdout",
     "output_type": "stream",
     "text": [
      "Błąd:  Wprowadzone dane muszą być w nawiasach klamrowych.\n"
     ]
    }
   ],
   "source": [
    "def main():\n",
    "    try:\n",
    "        # odczytywanie wektora liczb całkowitych od użytkownika\n",
    "        numery_input = input(\"Podaj wektor liczb całkowitych w nawiasach klamrowych ( np. [1,2,3,4,5,6]):\").strip () # sprawdzanie, czy są nawiasy\n",
    "#klamrowe czyli, czy rozpoczyna się od '[' i kończy na ']'\n",
    "        if not (numery_input.startswith ('[') and numery_input.endswith(']')):\n",
    "            raise ValueError (\" Wprowadzone dane muszą być w nawiasach klamrowych.\") # nastepnie ttrzeba zamienic na normalną listę liczb całk.\n",
    "        # Usunięcie nawiasów i zamiana wprowadzonego ciągu liczb na listę liczb całkowitych\n",
    "        numery_input = numery_input[1:-1]\n",
    "        numery = list (map ( int, numery_input.split(',')))\n",
    "        # sprawdzanie, czy wprowadzone dane to lista liczb całkowitych\n",
    "        if not all(isinstance (n, int) for n in numery):\n",
    "            raise ValueError (\"Wprowadzone dane muszą być lista liczb całkowitych.\")\n",
    "        #Sprawdzenie, że liczby są dodatnie\n",
    "        if not all(n>=0 for n in numery):\n",
    "            raise ValueError(\" Wszystkie liczby musza być dodatnie\")\n",
    "    except( ValueError, SyntaxError) as e:\n",
    "        print (f\"Błąd: {e}\")\n",
    "        return\n",
    "# Wywołanie gry FizzBuzz dla wprowadzonej listy liczb\n",
    "    fizzbuzz_gra(numery)\n",
    "if __name__==\"__main__\":\n",
    "    main()"
   ]
  },
  {
   "cell_type": "code",
   "execution_count": 113,
   "id": "878b9708-786e-45fe-aca9-f59ed20572d5",
   "metadata": {},
   "outputs": [
    {
     "name": "stdin",
     "output_type": "stream",
     "text": [
      "Podaj wektor liczb całkowitych w nawiasach klamrowych ( np. [1,2,3,4,5,6]): [2.5,3.5,5.66]\n"
     ]
    },
    {
     "name": "stdout",
     "output_type": "stream",
     "text": [
      "Błąd: invalid literal for int() with base 10: '2.5'\n"
     ]
    }
   ],
   "source": [
    "def main():\n",
    "    try:\n",
    "        # odczytywanie wektora liczb całkowitych od użytkownika\n",
    "        numery_input = input(\"Podaj wektor liczb całkowitych w nawiasach klamrowych ( np. [1,2,3,4,5,6]):\").strip () # sprawdzanie, czy są nawiasy\n",
    "#klamrowe czyli, czy rozpoczyna się od '[' i kończy na ']'\n",
    "        if not (numery_input.startswith ('[') and numery_input.endswith(']')):\n",
    "            raise ValueError (\" Wprowadzone dane muszą być w nawiasach klamrowych.\") # nastepnie ttrzeba zamienic na normalną listę liczb całk.\n",
    "        # Usunięcie nawiasów i zamiana wprowadzonego ciągu liczb na listę liczb całkowitych\n",
    "        numery_input = numery_input[1:-1]\n",
    "        numery = list (map ( int, numery_input.split(',')))\n",
    "        # sprawdzanie, czy wprowadzone dane to lista liczb całkowitych\n",
    "        if not all(isinstance (n, int) for n in numery):\n",
    "            raise ValueError (\"Wprowadzone dane muszą być lista liczb całkowitych.\")\n",
    "        #Sprawdzenie, że liczby są dodatnie\n",
    "        if not all(n>=0 for n in numery):\n",
    "            raise ValueError(\" Wszystkie liczby musza być dodatnie\")\n",
    "    except( ValueError, SyntaxError) as e:\n",
    "        print (f\"Błąd: {e}\")\n",
    "        return\n",
    "# Wywołanie gry FizzBuzz dla wprowadzonej listy liczb\n",
    "    fizzbuzz_gra(numery)\n",
    "if __name__==\"__main__\":\n",
    "    main()"
   ]
  },
  {
   "cell_type": "code",
   "execution_count": null,
   "id": "6276eee4-048b-4869-9bbd-96e610f3cd18",
   "metadata": {},
   "outputs": [],
   "source": []
  }
 ],
 "metadata": {
  "kernelspec": {
   "display_name": "Python 3 (ipykernel)",
   "language": "python",
   "name": "python3"
  },
  "language_info": {
   "codemirror_mode": {
    "name": "ipython",
    "version": 3
   },
   "file_extension": ".py",
   "mimetype": "text/x-python",
   "name": "python",
   "nbconvert_exporter": "python",
   "pygments_lexer": "ipython3",
   "version": "3.12.3"
  }
 },
 "nbformat": 4,
 "nbformat_minor": 5
}
