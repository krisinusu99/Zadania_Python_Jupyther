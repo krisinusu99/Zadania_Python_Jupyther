{
 "cells": [
  {
   "cell_type": "code",
   "execution_count": 8,
   "id": "e2b07171-b3ed-4a7a-ad2a-96f00022cbc7",
   "metadata": {},
   "outputs": [],
   "source": [
    "# Proszę napisać funkcję korzystająctylko z funkcji bazowych, bez dodatkowych bibliotek statystycznyc."
   ]
  },
  {
   "cell_type": "code",
   "execution_count": 10,
   "id": "f9f22b08-62c7-4fe9-bbbe-b6b0ae448ca5",
   "metadata": {},
   "outputs": [],
   "source": [
    "# Funkcja ta zwróci dla dowolnego wektora jego średnią, wariancję i odchylenie standardwoe."
   ]
  },
  {
   "cell_type": "code",
   "execution_count": 12,
   "id": "2adcbacc-5644-4861-bbe5-71046c29a940",
   "metadata": {},
   "outputs": [],
   "source": [
    "# Każda statystyka powinna mieć odpowiednią etykietę. Przykładowy format: $ \\{$ 'mean': $\\mu$ , 'var' $\\sigma^2$ , 'std dev.': $\\sigma \\}$"
   ]
  },
  {
   "cell_type": "code",
   "execution_count": 14,
   "id": "d214d8c9-dde6-4a11-9448-f82cb66b02fb",
   "metadata": {},
   "outputs": [],
   "source": [
    "# Przykładem wektora będzie wektor jednowymairowy liczb całkowitych 5 elementowy zawierający : [1,2,3,4,9]"
   ]
  },
  {
   "cell_type": "code",
   "execution_count": 24,
   "id": "7ae7d0cc-d315-4b74-afe3-e0b0bd091d67",
   "metadata": {},
   "outputs": [],
   "source": [
    "def statystyki(WEKTOR):\n",
    "    n= len(WEKTOR)\n",
    "    # Obliczanie średniej\n",
    "    srednia = sum(WEKTOR) / n\n",
    "    # Obliczanie wariancji\n",
    "    wariancja = sum((x - srednia) **2 for x in WEKTOR) / n\n",
    "    # Obliczanie odchylenia standardowego\n",
    "    odchylenie_standardowe = wariancja ** 0.5\n",
    "    # Zwracanie wyników w odpowiednim formacie\n",
    "    return {\n",
    "        'mean': srednia,\n",
    "        'var': wariancja,\n",
    "        'std dev.': odchylenie_standardowe\n",
    "    }"
   ]
  },
  {
   "cell_type": "code",
   "execution_count": 28,
   "id": "1bc117cd-0544-4ac6-b019-d0f884438df7",
   "metadata": {},
   "outputs": [
    {
     "name": "stdout",
     "output_type": "stream",
     "text": [
      "Statystyki kolejno: średnia - mean, wariancja - var, odchylenie standardowe -std dev dla wybranego przykłądowego wektora jednowymiarowy [1,2,3,4,9]\n",
      "{'mean': 3.8, 'var': 7.760000000000001, 'std dev.': 2.785677655436824}\n"
     ]
    }
   ],
   "source": [
    "# Przykład użycia funkcji\n",
    "WEKTOR = [1,2,3,4,9]\n",
    "print(\"Statystyki kolejno: średnia - mean, wariancja - var, odchylenie standardowe -std dev dla wybranego przykłądowego wektora jednowymiarowy [1,2,3,4,9]\")\n",
    "wynik = statystyki(WEKTOR)\n",
    "print(wynik)"
   ]
  },
  {
   "cell_type": "code",
   "execution_count": null,
   "id": "90814433-3b5f-482c-a1ed-c09318e8da5a",
   "metadata": {},
   "outputs": [],
   "source": []
  }
 ],
 "metadata": {
  "kernelspec": {
   "display_name": "Python 3 (ipykernel)",
   "language": "python",
   "name": "python3"
  },
  "language_info": {
   "codemirror_mode": {
    "name": "ipython",
    "version": 3
   },
   "file_extension": ".py",
   "mimetype": "text/x-python",
   "name": "python",
   "nbconvert_exporter": "python",
   "pygments_lexer": "ipython3",
   "version": "3.12.3"
  }
 },
 "nbformat": 4,
 "nbformat_minor": 5
}
